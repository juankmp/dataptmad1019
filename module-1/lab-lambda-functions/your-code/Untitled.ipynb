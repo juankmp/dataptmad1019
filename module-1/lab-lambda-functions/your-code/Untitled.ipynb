{
 "cells": [
  {
   "cell_type": "code",
   "execution_count": 60,
   "metadata": {},
   "outputs": [
    {
     "name": "stdout",
     "output_type": "stream",
     "text": [
      "Baby shark, doo doo doo doo doo doo  \n",
      "\n",
      "Baby shark, doo doo doo doo doo doo  \n",
      "\n",
      "Baby shark, doo doo doo doo doo doo  \n",
      "\n",
      "Baby shark! \n",
      "\n",
      "Mommy shark, doo doo doo doo doo doo  \n",
      "\n",
      "Mommy shark, doo doo doo doo doo doo  \n",
      "\n",
      "Mommy shark, doo doo doo doo doo doo  \n",
      "\n",
      "Mommy shark! \n",
      "\n",
      "Daddy shark, doo doo doo doo doo doo  \n",
      "\n",
      "Daddy shark, doo doo doo doo doo doo  \n",
      "\n",
      "Daddy shark, doo doo doo doo doo doo  \n",
      "\n",
      "Daddy shark! \n",
      "\n",
      "Grandma shark, doo doo doo doo doo doo  \n",
      "\n",
      "Grandma shark, doo doo doo doo doo doo  \n",
      "\n",
      "Grandma shark, doo doo doo doo doo doo  \n",
      "\n",
      "Grandma shark! \n",
      "\n",
      "Grandpa shark, doo doo doo doo doo doo  \n",
      "\n",
      "Grandpa shark, doo doo doo doo doo doo  \n",
      "\n",
      "Grandpa shark, doo doo doo doo doo doo  \n",
      "\n",
      "Grandpa shark! \n",
      "\n",
      "Lets go hunt doo doo doo doo doo doo  \n",
      "\n",
      "Lets go hunt doo doo doo doo doo doo  \n",
      "\n",
      "Lets go hunt doo doo doo doo doo doo  \n",
      "\n",
      "Lets go hunt! \n",
      "\n"
     ]
    }
   ],
   "source": [
    " #def baby_shark_lyrics():\n",
    "a = ['shark','Baby','doo ','Mommy',',','!','Daddy','Grandma','Grandpa','Lets go hunt','Run away']  \n",
    "\n",
    "for i in range(3):\n",
    "    print(f'{a[1]} {a[0]}{a[4]} {a[2]*6} \\n')\n",
    "print(f'{a[1]} {a[0]}{a[5]} \\n')\n",
    "\n",
    "for i in range(3):\n",
    "    print(f'{a[3]} {a[0]}{a[4]} {a[2]*6} \\n')\n",
    "print(f'{a[3]} {a[0]}{a[5]} \\n')\n",
    "\n",
    "for i in range(3):\n",
    "    print(f'{a[6]} {a[0]}{a[4]} {a[2]*6} \\n')\n",
    "print(f'{a[6]} {a[0]}{a[5]} \\n')\n",
    "\n",
    "for i in range(3):\n",
    "    print(f'{a[7]} {a[0]}{a[4]} {a[2]*6} \\n')\n",
    "print(f'{a[7]} {a[0]}{a[5]} \\n')\n",
    "\n",
    "for i in range(3):\n",
    "    print(f'{a[8]} {a[0]}{a[4]} {a[2]*6} \\n')\n",
    "print(f'{a[8]} {a[0]}{a[5]} \\n')\n",
    "    \n",
    "for i in range(3):\n",
    "    print(f'{a[9]} {a[2]*6} \\n')\n",
    "print(f'{a[9]}{a[5]} \\n')"
   ]
  }
 ],
 "metadata": {
  "kernelspec": {
   "display_name": "Python [conda env:jupyter_env] *",
   "language": "python",
   "name": "conda-env-jupyter_env-py"
  },
  "language_info": {
   "codemirror_mode": {
    "name": "ipython",
    "version": 3
   },
   "file_extension": ".py",
   "mimetype": "text/x-python",
   "name": "python",
   "nbconvert_exporter": "python",
   "pygments_lexer": "ipython3",
   "version": "3.7.5"
  }
 },
 "nbformat": 4,
 "nbformat_minor": 2
}
