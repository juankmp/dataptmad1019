{
 "cells": [
  {
   "cell_type": "code",
   "execution_count": 2,
   "metadata": {},
   "outputs": [
    {
     "name": "stdout",
     "output_type": "stream",
     "text": [
      "1.17.3\n",
      "[[[0.83162816 0.30001047 0.88207074 0.01445766 0.1573991 ]\n",
      "  [0.76781859 0.05998563 0.77073709 0.61544848 0.49181596]\n",
      "  [0.67632618 0.92661652 0.80218323 0.67656708 0.68796031]]\n",
      "\n",
      " [[0.11555622 0.73974678 0.84082502 0.80115425 0.06325106]\n",
      "  [0.18655374 0.50969828 0.69071419 0.49827166 0.99338568]\n",
      "  [0.54473958 0.93099015 0.44249291 0.14806849 0.4102683 ]]]\n",
      "[[[1. 1. 1.]\n",
      "  [1. 1. 1.]]\n",
      "\n",
      " [[1. 1. 1.]\n",
      "  [1. 1. 1.]]\n",
      "\n",
      " [[1. 1. 1.]\n",
      "  [1. 1. 1.]]\n",
      "\n",
      " [[1. 1. 1.]\n",
      "  [1. 1. 1.]]\n",
      "\n",
      " [[1. 1. 1.]\n",
      "  [1. 1. 1.]]]\n",
      "They have the same shape\n",
      "Dimmensions are not the same, so this print it an exception\n",
      "(2, 3, 5)\n",
      "[[[1.83162816 1.30001047 1.88207074 1.01445766 1.1573991 ]\n",
      "  [1.76781859 1.05998563 1.77073709 1.61544848 1.49181596]\n",
      "  [1.67632618 1.92661652 1.80218323 1.67656708 1.68796031]]\n",
      "\n",
      " [[1.11555622 1.73974678 1.84082502 1.80115425 1.06325106]\n",
      "  [1.18655374 1.50969828 1.69071419 1.49827166 1.99338568]\n",
      "  [1.54473958 1.93099015 1.44249291 1.14806849 1.4102683 ]]]\n",
      "[[[0.83162816 0.30001047 0.88207074 0.01445766 0.1573991 ]\n",
      "  [0.76781859 0.05998563 0.77073709 0.61544848 0.49181596]\n",
      "  [0.67632618 0.92661652 0.80218323 0.67656708 0.68796031]]\n",
      "\n",
      " [[0.11555622 0.73974678 0.84082502 0.80115425 0.06325106]\n",
      "  [0.18655374 0.50969828 0.69071419 0.49827166 0.99338568]\n",
      "  [0.54473958 0.93099015 0.44249291 0.14806849 0.4102683 ]]]\n",
      "[[[1.83162816 1.30001047 1.88207074 1.01445766 1.1573991 ]\n",
      "  [1.76781859 1.05998563 1.77073709 1.61544848 1.49181596]\n",
      "  [1.67632618 1.92661652 1.80218323 1.67656708 1.68796031]]\n",
      "\n",
      " [[1.11555622 1.73974678 1.84082502 1.80115425 1.06325106]\n",
      "  [1.18655374 1.50969828 1.69071419 1.49827166 1.99338568]\n",
      "  [1.54473958 1.93099015 1.44249291 1.14806849 1.4102683 ]]]\n"
     ]
    }
   ],
   "source": [
    "\n",
    "#7. Do a and b have the same size? How do you prove that in Python code?\n",
    "#1. Import the NUMPY package under the name np.\n",
    "import numpy as np\n",
    "#2. Print the NUMPY version and the configuration.\n",
    "print(np.version.version)\n",
    "#3. Generate a 2x3x5 3-dimensional array with random values. Assign the array to variable \"a\"\n",
    "# Challenge: there are at least three easy ways that use numpy to generate random arrays. How many ways can you find?\n",
    "a = np.random.random((2,3,5))\n",
    "#4. Print a.\n",
    "print(a)\n",
    "#5. Create a 5x2x3 3-dimensional array with all values equaling 1.\n",
    "#Assign the array to variable \"b\"\n",
    "b = np.ones((5,2,3))\n",
    "#6. Print b.\n",
    "print(b)\n",
    "#7. Do a and b have the same size? How do you prove that in Python code?\n",
    "if ((a.size)) == int((b.size)):\n",
    "    print(\"They have the same shape\")\n",
    "else:\n",
    "    print(\"They have different shape\")\n",
    "#8. Are you able to add a and b? Why or why not?\n",
    "try:\n",
    "    sum_ab = a + b\n",
    "    print(sum_ab)\n",
    "except:\n",
    "    print(\"Dimmensions are not the same, so this print it an exception\")\n",
    "#9. Transpose b so that it has the same structure of a (i.e. become a 2x3x5 array). Assign the transposed array to varialbe \"c\".\n",
    "c = np.transpose(b, (1,2,0))\n",
    "print((c.shape))\n",
    "#10. Try to add a and c. Now it should work. Assign the sum to varialbe \"d\". But why does it work now?\n",
    "d = a + c\n",
    "print(d)\n",
    "#Its working because the shape is identical, although to make it possible I had to transpose it: row,column,dimmension into the transpose function\n",
    "\n"
   ]
  },
  {
   "cell_type": "code",
   "execution_count": 3,
   "metadata": {},
   "outputs": [
    {
     "name": "stdout",
     "output_type": "stream",
     "text": [
      "[[[0.83162816 0.30001047 0.88207074 0.01445766 0.1573991 ]\n",
      "  [0.76781859 0.05998563 0.77073709 0.61544848 0.49181596]\n",
      "  [0.67632618 0.92661652 0.80218323 0.67656708 0.68796031]]\n",
      "\n",
      " [[0.11555622 0.73974678 0.84082502 0.80115425 0.06325106]\n",
      "  [0.18655374 0.50969828 0.69071419 0.49827166 0.99338568]\n",
      "  [0.54473958 0.93099015 0.44249291 0.14806849 0.4102683 ]]]\n",
      "[[[1.83162816 1.30001047 1.88207074 1.01445766 1.1573991 ]\n",
      "  [1.76781859 1.05998563 1.77073709 1.61544848 1.49181596]\n",
      "  [1.67632618 1.92661652 1.80218323 1.67656708 1.68796031]]\n",
      "\n",
      " [[1.11555622 1.73974678 1.84082502 1.80115425 1.06325106]\n",
      "  [1.18655374 1.50969828 1.69071419 1.49827166 1.99338568]\n",
      "  [1.54473958 1.93099015 1.44249291 1.14806849 1.4102683 ]]]\n"
     ]
    }
   ],
   "source": [
    "#11. Print a and d. Notice the difference and relation of the two array in terms of the values? Explain.\n",
    "\n",
    "print(a)\n",
    "print(d)\n",
    "\n"
   ]
  },
  {
   "cell_type": "code",
   "execution_count": 21,
   "metadata": {},
   "outputs": [
    {
     "name": "stdout",
     "output_type": "stream",
     "text": [
      "[[[0.83162816 0.30001047 0.88207074 0.01445766 0.1573991 ]\n",
      "  [0.76781859 0.05998563 0.77073709 0.61544848 0.49181596]\n",
      "  [0.67632618 0.92661652 0.80218323 0.67656708 0.68796031]]\n",
      "\n",
      " [[0.11555622 0.73974678 0.84082502 0.80115425 0.06325106]\n",
      "  [0.18655374 0.50969828 0.69071419 0.49827166 0.99338568]\n",
      "  [0.54473958 0.93099015 0.44249291 0.14806849 0.4102683 ]]]\n",
      "Aqui se divide\n",
      "[[[1. 1. 1. 1. 1.]\n",
      "  [1. 1. 1. 1. 1.]\n",
      "  [1. 1. 1. 1. 1.]]\n",
      "\n",
      " [[1. 1. 1. 1. 1.]\n",
      "  [1. 1. 1. 1. 1.]\n",
      "  [1. 1. 1. 1. 1.]]]\n",
      "Si son iguales\n",
      "[[[0.83162816 0.30001047 0.88207074 0.01445766 0.1573991 ]\n",
      "  [0.76781859 0.05998563 0.77073709 0.61544848 0.49181596]\n",
      "  [0.67632618 0.92661652 0.80218323 0.67656708 0.68796031]]\n",
      "\n",
      " [[0.11555622 0.73974678 0.84082502 0.80115425 0.06325106]\n",
      "  [0.18655374 0.50969828 0.69071419 0.49827166 0.99338568]\n",
      "  [0.54473958 0.93099015 0.44249291 0.14806849 0.4102683 ]]]\n"
     ]
    }
   ],
   "source": [
    "e = a * c\n",
    "print(e)\n",
    "print(\"Aqui se divide\")\n",
    "print (c)\n",
    "\n",
    "if e.all() == a.all():\n",
    "    print(\"Si son iguales\")\n",
    "else:\n",
    "    print(\"no son iguales\")\n",
    "\n",
    "print(e)\n"
   ]
  },
  {
   "cell_type": "code",
   "execution_count": 8,
   "metadata": {},
   "outputs": [
    {
     "name": "stdout",
     "output_type": "stream",
     "text": [
      "1.5525580497849458\n",
      "[[[1.83162816 1.30001047 1.88207074 1.01445766 1.1573991 ]\n",
      "  [1.76781859 1.05998563 1.77073709 1.61544848 1.49181596]\n",
      "  [1.67632618 1.92661652 1.80218323 1.67656708 1.68796031]]\n",
      "\n",
      " [[1.11555622 1.73974678 1.84082502 1.80115425 1.06325106]\n",
      "  [1.18655374 1.50969828 1.69071419 1.49827166 1.99338568]\n",
      "  [1.54473958 1.93099015 1.44249291 1.14806849 1.4102683 ]]]\n"
     ]
    }
   ],
   "source": [
    "d_max = np.mean(d)\n",
    "print(d_max)\n",
    "print(d)"
   ]
  },
  {
   "cell_type": "code",
   "execution_count": 7,
   "metadata": {},
   "outputs": [
    {
     "name": "stdout",
     "output_type": "stream",
     "text": [
      "1.5525580497849458\n",
      "1.9933856789109532\n",
      "1.0144576573428996\n"
     ]
    }
   ],
   "source": [
    "d_mean = np.mean(d)\n",
    "d_max = np.max(d)\n",
    "d_min = np.min(d)\n",
    "\n",
    "\n",
    "\n",
    "print(d_mean)\n",
    "print(d_max)\n",
    "print(d_min)\n"
   ]
  },
  {
   "cell_type": "code",
   "execution_count": 48,
   "metadata": {},
   "outputs": [
    {
     "ename": "TypeError",
     "evalue": "only integer scalar arrays can be converted to a scalar index",
     "output_type": "error",
     "traceback": [
      "\u001b[0;31m---------------------------------------------------------------------------\u001b[0m",
      "\u001b[0;31mTypeError\u001b[0m                                 Traceback (most recent call last)",
      "\u001b[0;32m<ipython-input-48-9da46d8d50fc>\u001b[0m in \u001b[0;36m<module>\u001b[0;34m\u001b[0m\n\u001b[1;32m      7\u001b[0m     \u001b[0;32mfor\u001b[0m \u001b[0mj\u001b[0m \u001b[0;32min\u001b[0m \u001b[0mi\u001b[0m\u001b[0;34m:\u001b[0m\u001b[0;34m\u001b[0m\u001b[0;34m\u001b[0m\u001b[0m\n\u001b[1;32m      8\u001b[0m         \u001b[0;32mfor\u001b[0m \u001b[0mk\u001b[0m \u001b[0;32min\u001b[0m \u001b[0mj\u001b[0m\u001b[0;34m:\u001b[0m\u001b[0;34m\u001b[0m\u001b[0;34m\u001b[0m\u001b[0m\n\u001b[0;32m----> 9\u001b[0;31m             \u001b[0mh\u001b[0m\u001b[0;34m[\u001b[0m\u001b[0mi\u001b[0m\u001b[0;34m]\u001b[0m\u001b[0;34m[\u001b[0m\u001b[0mj\u001b[0m\u001b[0;34m]\u001b[0m\u001b[0;34m[\u001b[0m\u001b[0mk\u001b[0m\u001b[0;34m]\u001b[0m\u001b[0;34m.\u001b[0m\u001b[0mappend\u001b[0m\u001b[0;34m(\u001b[0m\u001b[0;36m10\u001b[0m\u001b[0;34m)\u001b[0m\u001b[0;34m\u001b[0m\u001b[0;34m\u001b[0m\u001b[0m\n\u001b[0m\u001b[1;32m     10\u001b[0m \u001b[0;34m\u001b[0m\u001b[0m\n\u001b[1;32m     11\u001b[0m \u001b[0mprint\u001b[0m\u001b[0;34m(\u001b[0m\u001b[0;34mf'Esta es la lista {h}'\u001b[0m\u001b[0;34m)\u001b[0m\u001b[0;34m\u001b[0m\u001b[0;34m\u001b[0m\u001b[0m\n",
      "\u001b[0;31mTypeError\u001b[0m: only integer scalar arrays can be converted to a scalar index"
     ]
    }
   ],
   "source": [
    "\n",
    "\n",
    "d_mean = np.mean(d)\n",
    "d_max = np.max(d)\n",
    "d_min = np.min(d)\n",
    "\n",
    "h =[]\n",
    "for i in d:\n",
    "    for j in i:\n",
    "        for k in j:\n",
    "            h.append(k)\n",
    "            \n",
    "print(f'Esta es la lista {h}')\n",
    "\n",
    "print(f' Esta es la media: {d_mean}')\n",
    "print(f' Este es el máximo: {d_max}')\n",
    "print(f' Este es el mínimo: {d_min}')\n",
    "            \n",
    "result = []            \n",
    "for i in h:\n",
    "    if i > d_min and i < d_mean:\n",
    "        result.append(25)\n",
    "    elif i > d_mean and i < d_max:\n",
    "        result.append(75)\n",
    "    elif i == d_mean:\n",
    "        result.append(50)\n",
    "    elif i == d_min:\n",
    "        result.append(0)\n",
    "    elif i == d_max:\n",
    "        result.append(100)\n",
    "\n",
    "print(f'Esta es la primera: {result}')\n",
    "    \n",
    "                \n",
    "\n",
    "\n",
    "\n",
    "#for i in f:\n",
    "    #if i > np.mean(f):\n",
    "        #k.append(\"50\")\n",
    "\n"
   ]
  },
  {
   "cell_type": "code",
   "execution_count": null,
   "metadata": {},
   "outputs": [],
   "source": []
  }
 ],
 "metadata": {
  "kernelspec": {
   "display_name": "Python 3",
   "language": "python",
   "name": "python3"
  },
  "language_info": {
   "codemirror_mode": {
    "name": "ipython",
    "version": 3
   },
   "file_extension": ".py",
   "mimetype": "text/x-python",
   "name": "python",
   "nbconvert_exporter": "python",
   "pygments_lexer": "ipython3",
   "version": "3.7.4"
  }
 },
 "nbformat": 4,
 "nbformat_minor": 2
}
