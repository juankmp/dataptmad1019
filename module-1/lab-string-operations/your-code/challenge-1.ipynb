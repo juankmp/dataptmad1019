{
 "cells": [
  {
   "cell_type": "markdown",
   "metadata": {},
   "source": [
    "# String Operations Lab\n",
    "\n",
    "**Before your start:**\n",
    "\n",
    "- Read the README.md file\n",
    "- Comment as much as you can and use the resources in the README.md file\n",
    "- Happy learning!"
   ]
  },
  {
   "cell_type": "code",
   "execution_count": 10,
   "metadata": {},
   "outputs": [],
   "source": [
    "import re"
   ]
  },
  {
   "cell_type": "markdown",
   "metadata": {},
   "source": [
    "# Challenge 1 - Combining Strings\n",
    "\n",
    "Combining strings is an important skill to acquire. There are multiple ways of combining strings in Python, as well as combining strings with variables. We will explore this in the first challenge. In the cell below, combine the strings in the list and add spaces between the strings (do not add a space after the last string). Insert a period after the last string."
   ]
  },
  {
   "cell_type": "code",
   "execution_count": 10,
   "metadata": {},
   "outputs": [
    {
     "name": "stdout",
     "output_type": "stream",
     "text": [
      "Durante un tiempo no estuvo segura de si su marido era su marido.\n"
     ]
    },
    {
     "data": {
      "text/plain": [
       "13"
      ]
     },
     "execution_count": 10,
     "metadata": {},
     "output_type": "execute_result"
    }
   ],
   "source": [
    "str_list = ['Durante', 'un', 'tiempo', 'no', 'estuvo', 'segura', 'de', 'si', 'su', 'marido', 'era', 'su', 'marido']\n",
    "# Your code here:\n",
    "print(' '.join(str_list)+\".\")\n",
    "len(str_list)"
   ]
  },
  {
   "cell_type": "markdown",
   "metadata": {},
   "source": [
    "In the cell below, use the list of strings to create a grocery list. Start the list with the string `Grocery list: ` and include a comma and a space between each item except for the last one. Include a period at the end. Only include foods in the list that start with the letter 'b' and ensure all foods are lower case."
   ]
  },
  {
   "cell_type": "code",
   "execution_count": 20,
   "metadata": {},
   "outputs": [
    {
     "name": "stdout",
     "output_type": "stream",
     "text": [
      "['bananas', 'chocolate', 'bread', 'diapers', 'ice cream', 'brownie mix', 'broccoli']\n",
      "['b', 'a', 'n', 'a', 'n', 'a', 's', 'c', 'h', 'o', 'c', 'o', 'l', 'a', 't', 'e', 'b', 'r', 'e', 'a', 'd', 'd', 'i', 'a', 'p', 'e', 'r', 's', 'i', 'c', 'e', ' ', 'c', 'r', 'e', 'a', 'm', 'b', 'r', 'o', 'w', 'n', 'i', 'e', ' ', 'm', 'i', 'x', 'b', 'r', 'o', 'c', 'c', 'o', 'l', 'i']\n",
      "['bananas', 'bread', 'brownie mix', 'broccoli']\n",
      "['bananas', 'bread', 'brownie mix', 'broccoli']\n",
      "Grocery list: bananas, bread, brownie mix, broccoli.\n"
     ]
    }
   ],
   "source": [
    "food_list = ['Bananas', 'Chocolate', 'bread', 'diapers', 'Ice Cream', 'Brownie Mix', 'broccoli']\n",
    "# Your code here:\n",
    "\n",
    "#Primero haciendo de la lista un solo caracter con el join, unido por -\n",
    "#segundo pasando todo el caracter a lowercase\n",
    "#tercero volviendo a hacer el split para dejar la lista inicial pero en lower\n",
    "food_list_lower = ((('-'.join(food_list)).lower()).split('-'))\n",
    "print(food_list_lower)\n",
    "\n",
    "\n",
    "\n",
    "\n",
    "#For para agregar a la nueva lista \"food_list_lower_b\" únicamente las que empiecen con b\n",
    "food_list_lower_b = []\n",
    "for i in food_list_lower:\n",
    "    if i.startswith('b'):\n",
    "        food_list_lower_b.append(i)\n",
    "print(food_list_lower_b)\n",
    "\n",
    "#Es el mismo for de arriba pero con list comprehensions.\n",
    "food_list_lower_b2 =[i for i in food_list_lower if i.startswith('b') is True]\n",
    "print(food_list_lower_b2)\n",
    "\n",
    "print('Grocery list: '+', '.join(food_list_lower_b2)+\".\")"
   ]
  },
  {
   "cell_type": "markdown",
   "metadata": {},
   "source": [
    "In the cell below, write a function that computes the area of a circle using its radius. Compute the area of the circle and insert the radius and the area between the two strings. Make sure to include spaces between the variable and the strings. \n",
    "\n",
    "Note: You can use the techniques we have learned so far or use f-strings. F-strings allow us to embed code inside strings. You can read more about f-strings [here](https://www.python.org/dev/peps/pep-0498/)."
   ]
  },
  {
   "cell_type": "code",
   "execution_count": 29,
   "metadata": {},
   "outputs": [
    {
     "name": "stdout",
     "output_type": "stream",
     "text": [
      "['bananas', 'chocolate', 'bread', 'diapers', 'ice cream', 'brownie mix', 'broccoli']\n"
     ]
    }
   ],
   "source": [
    "food_list = ['Bananas', 'Chocolate', 'bread', 'diapers', 'Ice Cream', 'Brownie Mix', 'broccoli']\n",
    "b = []\n",
    "for i in food_list:\n",
    "    b.append(i.lower())\n",
    "print(b)\n",
    "\n",
    "\n",
    "\n",
    "\n",
    "\n"
   ]
  },
  {
   "cell_type": "code",
   "execution_count": 2,
   "metadata": {},
   "outputs": [
    {
     "data": {
      "text/plain": [
       "'The area of the circle with radius: 5.0 is: 78.53981633974483'"
      ]
     },
     "execution_count": 2,
     "metadata": {},
     "output_type": "execute_result"
    }
   ],
   "source": [
    "import math\n",
    "\n",
    "string1 = \"The area of the circle with radius:\"\n",
    "string2  = \"is:\"\n",
    "radius = 5.0\n",
    "\n",
    "#def area(x, pi = math.pi):\n",
    "    # This function takes a radius and returns the area of a circle. We also pass a default value for pi.\n",
    "    # Input: Float (and default value for pi)\n",
    "    # Output: Float\n",
    "\n",
    "    \n",
    "    # Sample input: 5.0\n",
    "    # Sample Output: 78.53981633\n",
    "\n",
    "\n",
    "    # Your code here:\n",
    "    \n",
    "def area(radius, pi = math.pi):    \n",
    "    areacircu = (radius**2) * pi\n",
    "    return areacircu;\n",
    "\n",
    "# Your output string here:\n",
    "f'{string1} {radius} {string2} {area(radius)}'"
   ]
  },
  {
   "cell_type": "code",
   "execution_count": 27,
   "metadata": {},
   "outputs": [
    {
     "name": "stdout",
     "output_type": "stream",
     "text": [
      "Normal\n"
     ]
    }
   ],
   "source": []
  },
  {
   "cell_type": "code",
   "execution_count": 10,
   "metadata": {},
   "outputs": [
    {
     "name": "stdout",
     "output_type": "stream",
     "text": [
      "{1, 2, 3, 4, 5}\n"
     ]
    }
   ],
   "source": []
  },
  {
   "cell_type": "code",
   "execution_count": 7,
   "metadata": {},
   "outputs": [
    {
     "name": "stdout",
     "output_type": "stream",
     "text": [
      "{'a'}\n"
     ]
    }
   ],
   "source": []
  },
  {
   "cell_type": "markdown",
   "metadata": {},
   "source": [
    "# Challenge 2 - Splitting Strings\n",
    "\n",
    "We have first looked at combining strings into one long string. There are times where we need to do the opposite and split the string into smaller components for further analysis. \n",
    "\n",
    "In the cell below, split the string into a list of strings using the space delimiter. Count the frequency of each word in the string in a dictionary. Strip the periods, line breaks and commas from the text. Make sure to remove empty strings from your dictionary."
   ]
  },
  {
   "cell_type": "code",
   "execution_count": 24,
   "metadata": {},
   "outputs": [
    {
     "name": "stdout",
     "output_type": "stream",
     "text": [
      "['Some', 'say', 'the', 'world', 'will', 'end', 'in', 'fire,', 'Some', 'say', 'in', 'ice.', 'From', 'what', 'I’ve', 'tasted', 'of', 'desire', 'I', 'hold', 'with', 'those', 'who', 'favor', 'fire.', 'But', 'if', 'it', 'had', 'to', 'perish', 'twice,', 'I', 'think', 'I', 'know', 'enough', 'of', 'hate', 'To', 'say', 'that', 'for', 'destruction', 'ice', 'Is', 'also', 'great', 'And', 'would', 'suffice.']\n",
      "{'Some': 2, 'say': 3, 'the': 1, 'world': 1, 'will': 1, 'end': 1, 'in': 2, 'fire,': 1, 'ice.': 1, 'From': 1, 'what': 1, 'I’ve': 1, 'tasted': 1, 'of': 2, 'desire': 1, 'I': 3, 'hold': 1, 'with': 1, 'those': 1, 'who': 1, 'favor': 1, 'fire.': 1, 'But': 1, 'if': 1, 'it': 1, 'had': 1, 'to': 1, 'perish': 1, 'twice,': 1, 'think': 1, 'know': 1, 'enough': 1, 'hate': 1, 'To': 1, 'that': 1, 'for': 1, 'destruction': 1, 'ice': 1, 'Is': 1, 'also': 1, 'great': 1, 'And': 1, 'would': 1, 'suffice.': 1}\n",
      "Somesaytheworldwillendinfire\n",
      "Somesayinice\n",
      "FromwhatI’vetastedofdesire\n",
      "Iholdwiththosewhofavorfire\n",
      "Butifithadtoperishtwice\n",
      "IthinkIknowenoughofhate\n",
      "Tosaythatfordestructionice\n",
      "Isalsogreat\n",
      "Andwouldsuffice\n"
     ]
    },
    {
     "data": {
      "text/plain": [
       "'Some say the world will end in fire,Some say in ice.From what I’ve tasted of desireI hold with those who favor fire.But if it had to perish twice,I think I know enough of hateTo say that for destruction iceIs also greatAnd would suffice.'"
      ]
     },
     "execution_count": 24,
     "metadata": {},
     "output_type": "execute_result"
    }
   ],
   "source": [
    "import re\n",
    "\n",
    "poem = \"\"\"Some say the world will end in fire,\n",
    "Some say in ice.\n",
    "From what I’ve tasted of desire\n",
    "I hold with those who favor fire.\n",
    "But if it had to perish twice,\n",
    "I think I know enough of hate\n",
    "To say that for destruction ice\n",
    "Is also great\n",
    "And would suffice.\"\"\"\n",
    "\n",
    "#function DICT --> Help\n",
    "# Your code here:\n",
    "\n",
    "#space delimiter to create a list of strings:\n",
    "split_poem = (poem.split())\n",
    "  \n",
    "    \n",
    "#counting each word and adding it to a dictionary called poem_dict\n",
    "print(split_poem)\n",
    "\n",
    "poem_dict = {}\n",
    "for i in split_poem:\n",
    "    if (i in poem_dict):\n",
    "        poem_dict[i] += 1\n",
    "    else:\n",
    "        poem_dict[i] = 1\n",
    "\n",
    "print(poem_dict)\n",
    "\n",
    "#striping periods, line breaks and commas from the text\n",
    "\n",
    "strip_poem= poem.replace('.', '').replace(',', '').replace(' ','')\n",
    "print(strip_poem)\n",
    "\n",
    "re.sub('\\n','',poem)\n",
    "\n"
   ]
  },
  {
   "cell_type": "markdown",
   "metadata": {},
   "source": [
    "In the cell below, find all the words that appear in the text and do not appear in the blacklist. You must parse the string but can choose any data structure you wish for the words that do not appear in the blacklist. Remove all non letter characters and convert all words to lower case."
   ]
  },
  {
   "cell_type": "code",
   "execution_count": 222,
   "metadata": {},
   "outputs": [
    {
     "name": "stdout",
     "output_type": "stream",
     "text": [
      "['I', 'was', 'angry', 'with', 'my', 'friend;', 'I', 'told', 'my', 'wrath,', 'my', 'wrath', 'did', 'end.', 'I', 'was', 'angry', 'with', 'my', 'foe:', 'I', 'told', 'not,', 'my', 'wrath', 'did', 'grow.', 'And', 'I', 'waterd', 'fears,', 'Night', '&', 'morning', 'with', 'my', 'tears:', 'And', 'I', 'sunned', 'with', 'smiles,', 'And', 'with', 'soft', 'deceitful', 'wiles.', 'And', 'grew', 'both', 'day', 'night.', 'Till', 'bore', 'apple', 'bright.', 'And', 'my', 'foe', 'beheld', 'shine,', 'And', 'he', 'knew', 'that', 'was', 'mine.', 'And', 'into', 'my', 'garden', 'stole,', 'When', 'night', 'had', 'veild', 'pole;', 'In', 'morning', 'glad', 'I', 'see;', 'My', 'foe', 'outstretched', 'beneath', 'tree', '.']\n",
      "i was angry with my friend i told my wrath my wrath did end i was angry with my foe i told not my wrath did grow and i waterd fears night & morning with my tears and i sunned with smiles and with soft deceitful wiles and grew both day night till bore apple bright and my foe beheld shine and he knew that was mine and into my garden stole when night had veild pole in morning glad i see my foe outstretched beneath tree \n",
      "{'mine.', 'bore', 'told', 'stole,', 'not,', 'into', 'tree', 'beneath', 'wrath,', 'veild', 'And', 'In', 'night.', 'apple', 'day', 'glad', 'outstretched', 'wiles.', 'with', 'did', 'tears:', 'angry', 'wrath', 'knew', 'waterd', 'Night', 'My', 'sunned', 'beheld', '.', 'I', 'see;', 'end.', 'fears,', 'morning', 'garden', 'shine,', '&', 'had', 'that', 'grew', 'foe', 'bright.', 'When', 'foe:', 'deceitful', 'Till', 'pole;', 'was', 'smiles,', 'my', 'friend;', 'both', 'grow.', 'he', 'night', 'soft'}\n"
     ]
    }
   ],
   "source": [
    "blacklist = ['and', 'as', 'an', 'a', 'the', 'in', 'it']\n",
    "\n",
    "poem2 = \"\"\"I and was angry with my friend; \n",
    "I told my wrath, my wrath did end.\n",
    "I was angry with my foe: \n",
    "I told it not, my wrath did grow. \n",
    "\n",
    "And I waterd it in fears,\n",
    "Night & morning with my tears: \n",
    "And I sunned it with smiles,\n",
    "And with soft deceitful wiles. \n",
    "\n",
    "And it grew both day and night. \n",
    "Till it bore an apple bright. \n",
    "And my foe beheld it shine,\n",
    "And he knew that it was mine. \n",
    "\n",
    "And into my garden stole, \n",
    "When the night had veild the pole; \n",
    "In the morning glad I see; \n",
    "My foe outstretched beneath the tree it .\"\"\"\n",
    "\n",
    "# Your code here:\n",
    "poem3 = poem2.split()\n",
    "poem4 = []\n",
    "\n",
    "for i in poem3:\n",
    "    if i not in blacklist:\n",
    "        poem4.append(i)\n",
    "print(poem4)\n",
    "\n",
    "poem5 = ' '.join(poem4).replace(';','').replace(',', '').replace(':','').replace('.','').lower()\n",
    "print(poem5)        \n",
    "\n",
    "#poem_find = []\n",
    "#for i in blacklist:\n",
    " #   poem_find.append(re.findall(i,poem2))\n",
    "#print(poem_find)\n",
    "\n",
    "poemset =set(poem_split2)\n",
    "blacklistset = set(blacklist)\n",
    "a = poemset - blacklistset\n",
    "print(a)\n",
    "\n",
    "#poem_split2 = poem3.split()\n",
    "#poem5 = []\n",
    "#poem3 = poem_split2\n",
    "\n",
    "#for i in blacklist:\n",
    "#    for j in poem_split2:\n",
    "#        if i != j:\n",
    "#            poem5.append(j)\n",
    "#print(poem5)\n",
    "#print(poem3)\n",
    "        \n",
    "#poem66 = []\n",
    "#for i in blacklist:\n",
    "#    if i not in poem_split2:\n",
    "#        poem66.append(i)\n",
    "#print(poem66)\n",
    "    \n",
    "            \n",
    "\n",
    "#b = [] \n",
    "#for i in blacklist:\n",
    "#   a = re.findall(i,poem2)\n",
    "#    b.append(a)\n",
    "#print(b)    \n",
    "\n",
    "\n",
    "#for i in blacklist:\n",
    "#    poem3 = poem4\n",
    "#    poem4 = poem3.replace(i,\"\")\n",
    "#print(poem4)\n",
    "\n",
    "                    \n",
    "#replace , lower...\n",
    "                           \n",
    "\n",
    "\n"
   ]
  },
  {
   "cell_type": "markdown",
   "metadata": {},
   "source": [
    "# Challenge 3 - Regular Expressions\n",
    "\n",
    "Sometimes, we would like to perform more complex manipulations of our string. This is where regular expressions come in handy. In the cell below, return all characters that are upper case from the string specified below."
   ]
  },
  {
   "cell_type": "code",
   "execution_count": 202,
   "metadata": {},
   "outputs": [
    {
     "name": "stdout",
     "output_type": "stream",
     "text": [
      "['T', 'P']\n"
     ]
    }
   ],
   "source": [
    "poem = \"\"\"The apparition of these faces in the crowd;\n",
    "Petals on a wet, black bough.\"\"\"\n",
    "\n",
    "# Your code here:\n",
    "#findall\n",
    "\n",
    "print(re.findall('[A-Z]', poem))\n",
    "\n"
   ]
  },
  {
   "cell_type": "markdown",
   "metadata": {},
   "source": [
    "In the cell below, filter the list provided and return all elements of the list containing a number. To filter the list, use the `re.search` function. Check if the function does not return `None`. You can read more about the `re.search` function [here](https://docs.python.org/3/library/re.html)."
   ]
  },
  {
   "cell_type": "code",
   "execution_count": 210,
   "metadata": {},
   "outputs": [
    {
     "name": "stdout",
     "output_type": "stream",
     "text": [
      "['123abc', 'abc123', 'JohnSmith1', 'ABBY4']\n"
     ]
    }
   ],
   "source": [
    "data = ['123abc', 'abc123', 'JohnSmith1', 'ABBY4', 'JANE']\n",
    "\n",
    "# Your code here:\n",
    "#findall or search\n",
    "\n",
    "data2 = []\n",
    "for i in data: \n",
    "    if re.search('[0-9]',i):\n",
    "        data2.append(i)\n",
    "print(data2)\n",
    "\n",
    "\n"
   ]
  },
  {
   "cell_type": "markdown",
   "metadata": {},
   "source": [
    "# Bonus Challenge - Regular Expressions II\n",
    "\n",
    "In the cell below, filter the list provided to keep only strings containing at least one digit and at least one lower case letter. As in the previous question, use the `re.search` function and check that the result is not `None`.\n",
    "\n",
    "To read more about regular expressions, check out [this link](https://developers.google.com/edu/python/regular-expressions)."
   ]
  },
  {
   "cell_type": "code",
   "execution_count": null,
   "metadata": {},
   "outputs": [],
   "source": [
    "data = ['123abc', 'abc123', 'JohnSmith1', 'ABBY4', 'JANE']\n",
    "# Your code here:\n"
   ]
  },
  {
   "cell_type": "code",
   "execution_count": 12,
   "metadata": {},
   "outputs": [
    {
     "data": {
      "text/plain": [
       "4"
      ]
     },
     "execution_count": 12,
     "metadata": {},
     "output_type": "execute_result"
    }
   ],
   "source": []
  }
 ],
 "metadata": {
  "kernelspec": {
   "display_name": "Python [conda env:jupyter_env] *",
   "language": "python",
   "name": "conda-env-jupyter_env-py"
  },
  "language_info": {
   "codemirror_mode": {
    "name": "ipython",
    "version": 3
   },
   "file_extension": ".py",
   "mimetype": "text/x-python",
   "name": "python",
   "nbconvert_exporter": "python",
   "pygments_lexer": "ipython3",
   "version": "3.7.5"
  }
 },
 "nbformat": 4,
 "nbformat_minor": 2
}
